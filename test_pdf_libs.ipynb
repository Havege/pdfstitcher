{
 "metadata": {
  "language_info": {
   "codemirror_mode": {
    "name": "ipython",
    "version": 3
   },
   "file_extension": ".py",
   "mimetype": "text/x-python",
   "name": "python",
   "nbconvert_exporter": "python",
   "pygments_lexer": "ipython3",
   "version": "3.7.9-final"
  },
  "orig_nbformat": 2,
  "kernelspec": {
   "name": "python3",
   "display_name": "Python 3"
  }
 },
 "nbformat": 4,
 "nbformat_minor": 2,
 "cells": [
  {
   "cell_type": "code",
   "execution_count": null,
   "metadata": {},
   "outputs": [],
   "source": [
    "testfile = r'C:\\Users\\cfcur\\Google Drive\\Sewing\\Puperita\\PUPERITAmodel1181MYNESTSleepSack.pdf'\n",
    "patternpage = 32"
   ]
  },
  {
   "cell_type": "code",
   "execution_count": 354,
   "metadata": {
    "tags": []
   },
   "outputs": [
    {
     "output_type": "stream",
     "name": "stdout",
     "text": [
      "b'0.000000 1.000000 -1.000000 0.000000 622.205500 97.795500'\n"
     ]
    }
   ],
   "source": [
    "import pikepdf\n",
    "\n",
    "pdf = pikepdf.Pdf.open(testfile)\n",
    "dest = pikepdf.Pdf.new()\n",
    "\n",
    "copypages = []\n",
    "for p in range(patternpage,patternpage+2):\n",
    "    localpage = dest.copy_foreign(pdf.pages[p])\n",
    "    xobj = pikepdf.Page(localpage).as_form_xobject()\n",
    "    copypages.append(xobj)\n",
    "\n",
    "mbox = localpage.MediaBox\n",
    "matrix = pikepdf.PdfMatrix(xobj.Matrix)\n",
    "\n",
    "# translate, then rotate\n",
    "m = matrix.translated(-mbox[2]/2,-mbox[3]/2)\n",
    "m = m.rotated(90)\n",
    "m = m.translated(mbox[2]/2,mbox[3]/2)\n",
    "print(m.encode())\n",
    "\n",
    "# define the contents based on the pages first\n",
    "content_txt = f\"\"\"\n",
    "    q\n",
    "    1 0 0 1 0 0 cm\n",
    "    /Page{patternpage} Do\n",
    "    1 0 0 1 {mbox[2]} 0 cm\n",
    "    /Page{patternpage+1} Do\n",
    "    Q\"\"\"\n",
    "newpage_contents = pikepdf.Stream(dest,content_txt.encode())\n",
    "\n",
    "xobj = pikepdf.Dictionary({})\n",
    "xobj[f'/Page{patternpage}'] = copypages[0]\n",
    "xobj[f'/Page{patternpage+1}'] = copypages[1]\n",
    "\n",
    "newpage = pikepdf.Dictionary(\n",
    "    Type=pikepdf.Name.Page, \n",
    "    MediaBox=[mbox[0],mbox[1],mbox[2]*2,mbox[3]],\n",
    "    Resources=pikepdf.Dictionary(XObject=xobj),\n",
    "    Contents=newpage_contents\n",
    ")\n",
    "\n",
    "localRoot = dest.copy_foreign(pdf.Root)\n",
    "dest.Root.OCProperties = localRoot.OCProperties\n",
    "dest.pages.append(newpage)\n",
    "dest.save('pike-test.pdf')\n",
    "\n",
    "# it works! layers, not too crazy, positioning, yay"
   ]
  },
  {
   "cell_type": "code",
   "execution_count": null,
   "metadata": {},
   "outputs": [],
   "source": [
    "from PyPDF4 import PdfFileReader\n",
    "\n",
    "in_doc = PdfFileReader(open(testfile,\"rb\"))\n",
    "print(in_doc.numPages)\n",
    "# encryption not supported, even though this file doesn't have password protection. Not a good sign."
   ]
  },
  {
   "cell_type": "code",
   "execution_count": 214,
   "metadata": {
    "tags": []
   },
   "outputs": [
    {
     "output_type": "stream",
     "name": "stdout",
     "text": [
      "b'/OC /MC0 BDC \\nBT\\n0.5 0.85 1 0 k\\n/GS0 gs\\n/TT0 1 Tf\\n-0.025 Tc 12 0 0 12 10.1724 696.2686 Tm\\n[(R)24.1(o'\n"
     ]
    }
   ],
   "source": [
    "import fitz #pymupdf, not sure why it's called fitz\n",
    "src = fitz.open(testfile)\n",
    "\n",
    "# open a second copy and delete all the pages\n",
    "doc = fitz.open(testfile)\n",
    "doc.deletePageRange(0,-1)\n",
    "\n",
    "# doc = fitz.open() # blank\n",
    "\n",
    "# copy over the layer info\n",
    "# ocgs = src.get_ocgs()\n",
    "# xrefmap = dict.fromkeys(ocgs.keys())\n",
    "\n",
    "# for xref,oc in ocgs.items():\n",
    "#     xrefmap[xref] = doc.add_ocg(name=oc['name'],on=oc['on'],intent=oc['intent'],usage=oc['usage'])\n",
    "\n",
    "r = src.pageCropBox(patternpage)\n",
    "\n",
    "# define the 4 rectangles per page\n",
    "r1 = r * 0.5                           # top left rect\n",
    "r2 = r1 + (r1.width, 0, r1.width, 0)   # top right\n",
    "r3 = r1 + (0, r1.height, 0, r1.height) # bottom left\n",
    "r4 = fitz.Rect(r1.br, r.br)            # bottom right\n",
    "\n",
    "# put them in a list\n",
    "r_tab = [r1, r2, r3, r4]\n",
    "\n",
    "# now copy input pages to output# now copy input pages to output\n",
    "page = doc.newPage(-1,r.width,r.height)\n",
    "\n",
    "c = b\"\"\n",
    "for spage in src.pages(patternpage,patternpage+4): \n",
    "    for xref in spage._getContents():\n",
    "        c += src.xrefStream(xref)\n",
    "    \n",
    "\n",
    "fitz.TOOLS._insert_contents(page, c)\n",
    "\n",
    "# by all means, save new file using garbage collection and compression\n",
    "doc.save(\"4up-fitz.pdf\",garbage = 4, deflate = True)"
   ]
  },
  {
   "cell_type": "code",
   "execution_count": 122,
   "metadata": {},
   "outputs": [
    {
     "output_type": "execute_result",
     "data": {
      "text/plain": [
       "<generator object Document.pages at 0x000002C548C3D848>"
      ]
     },
     "metadata": {},
     "execution_count": 122
    }
   ],
   "source": [
    "src.pages(33,38)"
   ]
  }
 ]
}